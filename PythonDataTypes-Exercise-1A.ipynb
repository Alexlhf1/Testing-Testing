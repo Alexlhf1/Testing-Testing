{
 "cells": [
  {
   "cell_type": "markdown",
   "metadata": {
    "id": "cj_fisyTOD4P"
   },
   "source": [
    "# Python Data Types & Containers Exercise 1A (Compulsory)"
   ]
  },
  {
   "cell_type": "markdown",
   "metadata": {
    "id": "5MRjRMEPOD4Y"
   },
   "source": [
    "1. Assign _True_ values to variables a and b. What is the result of $a+b$?"
   ]
  },
  {
   "cell_type": "code",
   "execution_count": 10,
   "metadata": {},
   "outputs": [
    {
     "name": "stdout",
     "output_type": "stream",
     "text": [
      "{(1, 5): 5, (1, 6): 6, (1, 7): 7, (2, 5): 10, (2, 6): 12, (2, 7): 14, (3, 5): 15, (3, 6): 18, (3, 7): 21, (4, 5): 20, (4, 6): 24, (4, 7): 28}\n"
     ]
    }
   ],
   "source": [
    "a = [1,2,3,4]\n",
    "b = [5,6,7]\n",
    "c=[]\n",
    "import math\n",
    "for i in a:\n",
    "    for j in b:\n",
    "        c.append((i,j))\n",
    "list1 = {i:math.prod(i) for i in c}\n",
    "print(list1)\n",
    "\n",
    "\n",
    "        "
   ]
  },
  {
   "cell_type": "code",
   "execution_count": 13,
   "metadata": {},
   "outputs": [
    {
     "name": "stdout",
     "output_type": "stream",
     "text": [
      "{(1, 5): 5, (1, 6): 6, (1, 7): 7, (2, 5): 10, (2, 6): 12, (2, 7): 14, (3, 5): 15, (3, 6): 18, (3, 7): 21, (4, 5): 20, (4, 6): 24, (4, 7): 28}\n"
     ]
    }
   ],
   "source": [
    "a = [1,2,3,4]\n",
    "b = [5,6,7]\n",
    "c={}\n",
    "for i in a:\n",
    "    for j in b:\n",
    "        c[(i,j)] = i*j\n",
    "print(c)"
   ]
  },
  {
   "cell_type": "code",
   "execution_count": null,
   "metadata": {},
   "outputs": [],
   "source": []
  },
  {
   "cell_type": "code",
   "execution_count": 20,
   "metadata": {
    "id": "6RUFfdxdOD4d",
    "scrolled": true
   },
   "outputs": [
    {
     "data": {
      "text/plain": [
       "25"
      ]
     },
     "execution_count": 20,
     "metadata": {},
     "output_type": "execute_result"
    }
   ],
   "source": [
    "a = 12\n",
    "b = 13\n",
    "a+b"
   ]
  },
  {
   "cell_type": "markdown",
   "metadata": {
    "id": "YC-KzlllOD5K"
   },
   "source": [
    "2. Type a string that has this as its result after printing:\n",
    "\n",
    "*\n",
    "* *\n",
    "* * *\n",
    "* * * *"
   ]
  },
  {
   "cell_type": "code",
   "execution_count": 17,
   "metadata": {
    "id": "8lHABPIeMxPe"
   },
   "outputs": [
    {
     "name": "stdout",
     "output_type": "stream",
     "text": [
      "*\n",
      "* *\n",
      "* * *\n",
      "* * * *\n"
     ]
    }
   ],
   "source": [
    "str1='*\\n* *\\n* * *\\n* * * *'\n",
    "print(str1)\n"
   ]
  },
  {
   "cell_type": "markdown",
   "metadata": {
    "id": "UKAPxfdGOD5W"
   },
   "source": [
    "3. Given:\n",
    "```\n",
    "a = 10\n",
    "b = 15.0\n",
    "```\n",
    "What is the data type of $a+b$?"
   ]
  },
  {
   "cell_type": "code",
   "execution_count": 5,
   "metadata": {
    "id": "GjXtEesXMz4b"
   },
   "outputs": [
    {
     "data": {
      "text/plain": [
       "float"
      ]
     },
     "execution_count": 5,
     "metadata": {},
     "output_type": "execute_result"
    }
   ],
   "source": [
    "a=10\n",
    "b=15.0\n",
    "a+b\n",
    "type(a+b)\n"
   ]
  },
  {
   "cell_type": "markdown",
   "metadata": {
    "id": "jfKorAZkOD52"
   },
   "source": [
    "4. Is ```this-variable = 0``` a correct variable assignment? If not, explain why it isn't. If it is, print out _this-variable_."
   ]
  },
  {
   "cell_type": "code",
   "execution_count": 15,
   "metadata": {
    "id": "6aipnO_tM1ZD"
   },
   "outputs": [
    {
     "name": "stdout",
     "output_type": "stream",
     "text": [
      "0\n"
     ]
    }
   ],
   "source": [
    "#No,cannnot assign number to a string\n",
    "a='this-variable'\n",
    "a=0\n",
    "print(a)"
   ]
  },
  {
   "cell_type": "markdown",
   "metadata": {
    "id": "uO_UtGyPOD6o"
   },
   "source": [
    "5. Create a user input of an integer and change the data type to float."
   ]
  },
  {
   "cell_type": "code",
   "execution_count": 10,
   "metadata": {
    "id": "8ShdjvumOD6r"
   },
   "outputs": [
    {
     "data": {
      "text/plain": [
       "float"
      ]
     },
     "execution_count": 10,
     "metadata": {},
     "output_type": "execute_result"
    }
   ],
   "source": [
    "a=10\n",
    "b=float(a)\n",
    "type(b)"
   ]
  },
  {
   "cell_type": "markdown",
   "metadata": {
    "id": "JYsd02aaOD65"
   },
   "source": [
    "6. Convert a user input of hours into seconds."
   ]
  },
  {
   "cell_type": "code",
   "execution_count": 6,
   "metadata": {
    "id": "ptDPc_pfM3pF"
   },
   "outputs": [
    {
     "name": "stdout",
     "output_type": "stream",
     "text": [
      "number of hours:2\n",
      "7200\n"
     ]
    }
   ],
   "source": [
    "hours = input('number of hours:')\n",
    "print(int(hours)*3600)"
   ]
  },
  {
   "cell_type": "code",
   "execution_count": 11,
   "metadata": {
    "id": "aSYPIe3qOD7F",
    "scrolled": false
   },
   "outputs": [
    {
     "ename": "SyntaxError",
     "evalue": "invalid syntax (2393174939.py, line 1)",
     "output_type": "error",
     "traceback": [
      "\u001b[1;36m  Input \u001b[1;32mIn [11]\u001b[1;36m\u001b[0m\n\u001b[1;33m    7. Given two numbers, return True if the sum of both numbers is less than 100. Otherwise return False.\u001b[0m\n\u001b[1;37m       ^\u001b[0m\n\u001b[1;31mSyntaxError\u001b[0m\u001b[1;31m:\u001b[0m invalid syntax\n"
     ]
    }
   ],
   "source": [
    "7. Given two numbers, return True if the sum of both numbers is less than 100. Otherwise return False."
   ]
  },
  {
   "cell_type": "code",
   "execution_count": 10,
   "metadata": {
    "id": "7H1kyr2tM5YL"
   },
   "outputs": [
    {
     "data": {
      "text/plain": [
       "True"
      ]
     },
     "execution_count": 10,
     "metadata": {},
     "output_type": "execute_result"
    }
   ],
   "source": [
    "a=10\n",
    "b=20\n",
    "c=a+b\n",
    "c<100"
   ]
  },
  {
   "cell_type": "markdown",
   "metadata": {
    "id": "q7L5Vf4NOD7T"
   },
   "source": [
    "8. Given that a pizza has dimensions 15cm in radius and a height of 2cm, what is its total volume?"
   ]
  },
  {
   "cell_type": "code",
   "execution_count": 24,
   "metadata": {
    "id": "7e7pxEi_OD7V"
   },
   "outputs": [
    {
     "data": {
      "text/plain": [
       "295.788"
      ]
     },
     "execution_count": 24,
     "metadata": {},
     "output_type": "execute_result"
    }
   ],
   "source": [
    "volume = 15*3.14**2*2\n",
    "volume"
   ]
  }
 ],
 "metadata": {
  "colab": {
   "name": "PythonDataTypes-Exercise-1A.ipynb",
   "provenance": []
  },
  "kernelspec": {
   "display_name": "Python 3 (ipykernel)",
   "language": "python",
   "name": "python3"
  },
  "language_info": {
   "codemirror_mode": {
    "name": "ipython",
    "version": 3
   },
   "file_extension": ".py",
   "mimetype": "text/x-python",
   "name": "python",
   "nbconvert_exporter": "python",
   "pygments_lexer": "ipython3",
   "version": "3.9.12"
  }
 },
 "nbformat": 4,
 "nbformat_minor": 1
}
